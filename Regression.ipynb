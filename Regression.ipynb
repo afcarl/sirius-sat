{
 "cells": [
  {
   "cell_type": "code",
   "execution_count": 1,
   "metadata": {
    "collapsed": true
   },
   "outputs": [],
   "source": [
    "import numpy as np\n",
    "import matplotlib.pyplot as plt\n",
    "#matplotlib inline"
   ]
  },
  {
   "cell_type": "markdown",
   "metadata": {},
   "source": [
    "# Сигмоида"
   ]
  },
  {
   "cell_type": "code",
   "execution_count": 2,
   "metadata": {},
   "outputs": [
    {
     "data": {
      "image/png": "[encoded data removed]",
      "text/plain": [
       "<matplotlib.figure.Figure at 0x7ff49c1e68d0>"
      ]
     },
     "metadata": {},
     "output_type": "display_data"
    }
   ],
   "source": [
    "def sigmoid(x):\n",
    "    return 1 / (1 + np.exp(-x))\n",
    "\n",
    "x = np.linspace(-5, 5, 100)\n",
    "plt.plot(x, sigmoid(x))\n",
    "plt.show()"
   ]
  },
  {
   "cell_type": "markdown",
   "metadata": {},
   "source": [
    "# Градиентный спуск"
   ]
  },
  {
   "cell_type": "code",
   "execution_count": 3,
   "metadata": {},
   "outputs": [
    {
     "name": "stdout",
     "output_type": "stream",
     "text": [
      "6.8\n",
      "6.64\n",
      "6.512\n",
      "6.4096\n",
      "6.32768\n",
      "6.262144\n",
      "6.2097152\n",
      "6.16777216\n",
      "6.134217728\n",
      "6.1073741824\n"
     ]
    }
   ],
   "source": [
    "def L(w):\n",
    "    return (w - 6)**2\n",
    "def L_grad(w):\n",
    "    return 2 * (w - 6)\n",
    "\n",
    "gamma = 0.1\n",
    "\n",
    "w = 7\n",
    "for i in range(10):\n",
    "    w = w - gamma * L_grad(w)\n",
    "    print(w) "
   ]
  },
  {
   "cell_type": "markdown",
   "metadata": {},
   "source": [
    "# Регрессия (обучение на одном примере)"
   ]
  },
  {
   "cell_type": "code",
   "execution_count": 4,
   "metadata": {},
   "outputs": [
    {
     "name": "stdout",
     "output_type": "stream",
     "text": [
      "0.440723489383 [0]\n",
      "[ 0.11763996  0.27944346  0.13798642  0.05144842  0.22505755]\n",
      "[ 0.11763996  0.27944346  0.13798642  0.05144842  0.22505755]\n"
     ]
    }
   ],
   "source": [
    "def forward(x, w):\n",
    "    return sigmoid(np.dot(x, w))\n",
    "\n",
    "#тут формула градиента полученная символьно\n",
    "def grad_w(x, w):\n",
    "    t = np.dot(x, w)\n",
    "    return sigmoid(t)*(1-sigmoid(t))*x\n",
    "\n",
    "#тут численное дифференциирование произвольной f\n",
    "def grad_w_numeric(f, x):\n",
    "    g = np.zeros_like(x)\n",
    "    for i in range(len(x)):\n",
    "        eps = np.zeros_like(x)\n",
    "        eps[i] = 1e-5\n",
    "        g[i] = (f(x+eps) - f(x-eps)) / (2 * np.sum(eps))\n",
    "    return g\n",
    "\n",
    "n = 5\n",
    "x = np.random.randn(n)\n",
    "y = np.random.randint(2, size=1)\n",
    "w = np.random.randn(n)\n",
    "\n",
    "p = forward(x, w)\n",
    "\n",
    "print p, y\n",
    "print grad_w(x, w)\n",
    "print grad_w_numeric(lambda w: forward(x, w), w)"
   ]
  },
  {
   "cell_type": "code",
   "execution_count": 5,
   "metadata": {},
   "outputs": [
    {
     "name": "stdout",
     "output_type": "stream",
     "text": [
      "[ 0.10369339  0.24631459  0.12162771  0.04534905  0.1983763 ]\n",
      "[ 0.10369339  0.24631459  0.12162771  0.04534905  0.1983763 ]\n"
     ]
    }
   ],
   "source": [
    "def loss(x, y, w):\n",
    "    return (forward(x,w) - y)**2\n",
    "\n",
    "def loss_grad(x, y, w):\n",
    "    return 2 * (forward(x, w) - y) * grad_w(x, w)\n",
    "\n",
    "print(loss_grad(x, y, w))\n",
    "print(grad_w_numeric(lambda w: loss(x, y, w), w))"
   ]
  },
  {
   "cell_type": "code",
   "execution_count": 6,
   "metadata": {},
   "outputs": [
    {
     "data": {
      "image/png": "[encoded data removed]",
      "text/plain": [
       "<matplotlib.figure.Figure at 0x7ff499eb1fd0>"
      ]
     },
     "metadata": {},
     "output_type": "display_data"
    }
   ],
   "source": [
    "#создаем данные: один пример, 5 фич\n",
    "n = 5\n",
    "x = np.random.randn(n)\n",
    "y = np.random.randint(2, size=1)\n",
    "w = np.random.randn(n)\n",
    "\n",
    "n_steps = 10\n",
    "losses = np.zeros(n_steps)\n",
    "gamma = 0.5\n",
    "\n",
    "for i in range(n_steps):\n",
    "    w = w - gamma * loss_grad(x, y, w)\n",
    "    losses[i] = loss(x,y,w)\n",
    "\n",
    "plt.plot(losses)\n",
    "plt.xlabel('iteration')\n",
    "plt.ylabel('loss')\n",
    "plt.show()"
   ]
  },
  {
   "cell_type": "markdown",
   "metadata": {},
   "source": [
    "# Регрессия (много примеров)"
   ]
  },
  {
   "cell_type": "code",
   "execution_count": 7,
   "metadata": {},
   "outputs": [],
   "source": [
    "def forward(x, w):\n",
    "    return sigmoid(np.dot(x, w))\n",
    "\n",
    "def grad_w(x, w):\n",
    "    t = np.dot(x, w)\n",
    "    return sigmoid(t)*(1-sigmoid(t))*x"
   ]
  },
  {
   "cell_type": "code",
   "execution_count": 8,
   "metadata": {},
   "outputs": [
    {
     "data": {
      "image/png": "[encoded data removed]",
      "text/plain": [
       "<matplotlib.figure.Figure at 0x7ff499e9e310>"
      ]
     },
     "metadata": {},
     "output_type": "display_data"
    }
   ],
   "source": [
    "n = 5\n",
    "k = 4\n",
    "x = np.random.randn(k, n)\n",
    "y = np.random.randint(2, size=k)\n",
    "w = np.random.randn(n)\n",
    "\n",
    "def forward(x, w):\n",
    "    return sigmoid(np.dot(x, w.T))\n",
    "\n",
    "def grad_w(x, w):\n",
    "    t = np.dot(x, w.T)\n",
    "    s = sigmoid(t)*(1-sigmoid(t))\n",
    "    return (x.T * s).T\n",
    "\n",
    "def loss(x, y, w):\n",
    "    return np.sum((forward(x,w) - y)**2)\n",
    "\n",
    "def loss_grad(x, y, w):\n",
    "    return 2 * np.dot((forward(x, w) - y), grad_w(x, w))\n",
    "\n",
    "n_steps = 100\n",
    "losses = np.zeros(n_steps)\n",
    "gamma = 0.5\n",
    "\n",
    "for i in range(n_steps):\n",
    "    w = w - gamma * loss_grad(x, y, w)\n",
    "    losses[i] = loss(x,y,w)\n",
    "\n",
    "plt.plot(losses)\n",
    "plt.xlabel('iteration')\n",
    "plt.ylabel('loss')\n",
    "plt.show()"
   ]
  },
  {
   "cell_type": "markdown",
   "metadata": {},
   "source": [
    "# Регрессия на MNIST"
   ]
  },
  {
   "cell_type": "code",
   "execution_count": 9,
   "metadata": {},
   "outputs": [],
   "source": [
    "#качаем mnist\n",
    "from sklearn.datasets import fetch_mldata\n",
    "mnist = fetch_mldata('MNIST original')\n",
    "\n",
    "#\n",
    "mnist.data = mnist.data / 255.\n",
    "\n",
    "#выберем только 0 и 1\n",
    "idx = (mnist.target == 0) + (mnist.target == 1)\n",
    "mnist_binary_data = mnist.data[idx]\n",
    "mnist_binary_target = mnist.target[idx]\n",
    "\n",
    "#перемешиваем\n",
    "from sklearn.utils import shuffle\n",
    "mnist_binary_data, mnist_binary_target = shuffle(mnist_binary_data, mnist_binary_target)\n",
    "\n",
    "#нарезаем test и train\n",
    "x = mnist_binary_data[:1000]\n",
    "y = mnist_binary_target[:1000]\n",
    "x_test = mnist_binary_data[1000:]\n",
    "y_test = mnist_binary_target[1000:]"
   ]
  },
  {
   "cell_type": "code",
   "execution_count": 10,
   "metadata": {
    "collapsed": true
   },
   "outputs": [],
   "source": [
    "n = 784\n",
    "k = 1000\n",
    "w = np.random.randn(n)"
   ]
  },
  {
   "cell_type": "code",
   "execution_count": 11,
   "metadata": {},
   "outputs": [
    {
     "data": {
      "image/png": "[encoded data removed]",
      "text/plain": [
       "<matplotlib.figure.Figure at 0x7ff499e5c2d0>"
      ]
     },
     "metadata": {},
     "output_type": "display_data"
    }
   ],
   "source": [
    "n_steps = 1000\n",
    "losses = np.zeros(n_steps)\n",
    "gamma = 0.1\n",
    "\n",
    "for i in range(n_steps):\n",
    "    w = w - gamma * loss_grad(x, y, w)\n",
    "    losses[i] = loss(x,y,w)\n",
    "\n",
    "plt.plot(losses)\n",
    "plt.xlabel('iteration')\n",
    "plt.ylabel('loss')\n",
    "plt.show()"
   ]
  },
  {
   "cell_type": "code",
   "execution_count": 12,
   "metadata": {},
   "outputs": [
    {
     "name": "stdout",
     "output_type": "stream",
     "text": [
      "0.996\n"
     ]
    }
   ],
   "source": [
    "prediction = forward(x, w) > 0.5\n",
    "print(np.mean(prediction == y))"
   ]
  },
  {
   "cell_type": "code",
   "execution_count": 13,
   "metadata": {},
   "outputs": [
    {
     "name": "stdout",
     "output_type": "stream",
     "text": [
      "0.994484760522\n"
     ]
    }
   ],
   "source": [
    "prediction = forward(x_test, w) > 0.5\n",
    "print(np.mean(prediction == y_test))"
   ]
  },
  {
   "cell_type": "code",
   "execution_count": 14,
   "metadata": {},
   "outputs": [
    {
     "data": {
      "image/png": "[encoded data removed]",
      "text/plain": [
       "<matplotlib.figure.Figure at 0x7ff499e63150>"
      ]
     },
     "metadata": {},
     "output_type": "display_data"
    }
   ],
   "source": [
    "plt.imshow(w.reshape((28, 28)))\n",
    "plt.colorbar()\n",
    "plt.show()"
   ]
  }
 ],
 "metadata": {
  "kernelspec": {
   "display_name": "Python 2",
   "language": "python",
   "name": "python2"
  },
  "language_info": {
   "codemirror_mode": {
    "name": "ipython",
    "version": 2
   },
   "file_extension": ".py",
   "mimetype": "text/x-python",
   "name": "python",
   "nbconvert_exporter": "python",
   "pygments_lexer": "ipython2",
   "version": "2.7.6"
  }
 },
 "nbformat": 4,
 "nbformat_minor": 2
}

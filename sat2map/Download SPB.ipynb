{
 "cells": [
  {
   "cell_type": "code",
   "execution_count": 1,
   "metadata": {
    "collapsed": true
   },
   "outputs": [],
   "source": [
    "import requests\n",
    "import urllib\n",
    "import numpy as np"
   ]
  },
  {
   "cell_type": "code",
   "execution_count": 13,
   "metadata": {
    "collapsed": true,
    "scrolled": true
   },
   "outputs": [],
   "source": [
    "def load_map(pos, m_type, fname, z=16):\n",
    "    #30 59\n",
    "    LINK = \"https://static-maps.yandex.ru/1.x/?ll={lat},{lon}&z={z}&l={type}&size=200,200\"\n",
    "    LINK = LINK.format(lat=pos[\"lat\"], lon=pos[\"lon\"], z=z, type=m_type)\n",
    "    #print LINK\n",
    "    \n",
    "    label = \".jpg\"\n",
    "    if m_type==\"map\":\n",
    "        label = \".png\"\n",
    "    \n",
    "    with open(fname + label, \"wb\") as handle:\n",
    "        response = requests.get(LINK, stream=True)\n",
    "        \n",
    "        if not response.ok:\n",
    "            print(response)\n",
    "            \n",
    "        for block in response.iter_content(1024):\n",
    "            if not block:\n",
    "                break\n",
    "                \n",
    "            handle.write(block)"
   ]
  },
  {
   "cell_type": "code",
   "execution_count": 14,
   "metadata": {},
   "outputs": [],
   "source": [
    "load_map({\"lat\":30.348954, \"lon\":59.932704}, \"map\", \"9999\")"
   ]
  },
  {
   "cell_type": "code",
   "execution_count": 15,
   "metadata": {
    "collapsed": true
   },
   "outputs": [],
   "source": [
    "borders = {\"min\":[59.845361, 30.297797], \"max\":[59.916340, 30.387061]}"
   ]
  },
  {
   "cell_type": "code",
   "execution_count": 18,
   "metadata": {
    "collapsed": true
   },
   "outputs": [],
   "source": [
    "def get_total_map(borders, path, step=0.001):\n",
    "    cnt = 0\n",
    "\n",
    "    finish_lat = int((borders[\"max\"][1] - borders[\"min\"][1]) / step)\n",
    "    finish_lon = int((borders[\"max\"][0] - borders[\"min\"][0]) / step)\n",
    "\n",
    "    for lat in range(0, finish_lat):\n",
    "        for lon in range(0, finish_lon):\n",
    "            cor_lon, cor_lat = borders[\"min\"][0] + step * lon, borders[\"min\"][1] + step * lat\n",
    "            load_map({\"lat\":cor_lat, \"lon\":cor_lon}, \"map\", path+str(cnt)+\".\"+\"map\")\n",
    "            load_map({\"lat\":cor_lat, \"lon\":cor_lon}, \"sat\", path+str(cnt)+\".\"+\"sat\")            \n",
    "            \n",
    "            cnt+=1"
   ]
  },
  {
   "cell_type": "code",
   "execution_count": null,
   "metadata": {},
   "outputs": [],
   "source": [
    "get_total_map(borders, \"data/\")"
   ]
  }
 ],
 "metadata": {
  "kernelspec": {
   "display_name": "Python [default]",
   "language": "python",
   "name": "python2"
  },
  "language_info": {
   "codemirror_mode": {
    "name": "ipython",
    "version": 2
   },
   "file_extension": ".py",
   "mimetype": "text/x-python",
   "name": "python",
   "nbconvert_exporter": "python",
   "pygments_lexer": "ipython2",
   "version": "2.7.13"
  }
 },
 "nbformat": 4,
 "nbformat_minor": 2
}

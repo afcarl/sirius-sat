{
 "cells": [
  {
   "cell_type": "code",
   "execution_count": 1,
   "metadata": {},
   "outputs": [
    {
     "name": "stdout",
     "output_type": "stream",
     "text": [
      "env: THEANO_FLAGS=device=gpu4,floatX=float32, lib.cnmem=0.5\n"
     ]
    },
    {
     "name": "stderr",
     "output_type": "stream",
     "text": [
      "WARNING (theano.sandbox.cuda): The cuda backend is deprecated and will be removed in the next release (v0.10).  Please switch to the gpuarray backend. You can get more information about how to switch at this URL:\n",
      " https://github.com/Theano/Theano/wiki/Converting-to-the-new-gpu-back-end%28gpuarray%29\n",
      "\n",
      "Using gpu device 4: GeForce GTX 1080 (CNMeM is enabled with initial size: 50.0% of memory, cuDNN 5110)\n"
     ]
    }
   ],
   "source": [
    "%env THEANO_FLAGS=device=gpu4,floatX=float32, lib.cnmem=0.5\n",
    "\n",
    "from unet import build_UNet, build_Discriminator\n",
    "from preproc import pics2array\n",
    "\n",
    "import theano\n",
    "import theano.tensor as T\n",
    "\n",
    "import lasagne\n",
    "from lasagne.layers import get_output, get_all_params\n",
    "\n",
    "import numpy as np\n",
    "\n",
    "import os\n",
    "\n",
    "import matplotlib.pyplot as plt\n",
    "%matplotlib inline"
   ]
  },
  {
   "cell_type": "code",
   "execution_count": 2,
   "metadata": {
    "collapsed": true
   },
   "outputs": [],
   "source": [
    "inputSat = T.tensor4(\"Input Satelite\")\n",
    "inputMap = T.tensor4(\"Input Map\")\n",
    "\n",
    "gener = build_UNet(inputSat, input_dim=(128, 128))\n",
    "outputMap = get_output(gener[\"output\"])\n",
    "\n",
    "discrim = build_Discriminator(img_size=(128, 128))\n",
    "\n",
    "legit_prob = get_output(discrim[\"output\"], {discrim[\"input\"] : inputMap})\n",
    "fake_prob = get_output(discrim[\"output\"], {discrim[\"input\"] : outputMap})"
   ]
  },
  {
   "cell_type": "code",
   "execution_count": 3,
   "metadata": {
    "collapsed": true
   },
   "outputs": [],
   "source": [
    "l1_loss = T.abs_(inputMap - outputMap).mean()\n",
    "gen_loss = -(T.log(fake_prob)).mean()\n",
    "\n",
    "combo_loss = l1_loss + gen_loss\n",
    "\n",
    "discr_loss = -(T.log(legit_prob) + T.log(1 - fake_prob)).mean()"
   ]
  },
  {
   "cell_type": "code",
   "execution_count": 4,
   "metadata": {
    "collapsed": true
   },
   "outputs": [],
   "source": [
    "D_params = get_all_params(discrim[\"output\"], trainable=True)\n",
    "D_updates = lasagne.updates.adam(discr_loss, D_params, 3e-4)\n",
    "D_train = theano.function([inputMap, inputSat], discr_loss, updates=D_updates)"
   ]
  },
  {
   "cell_type": "code",
   "execution_count": 5,
   "metadata": {
    "collapsed": true
   },
   "outputs": [],
   "source": [
    "G_params = get_all_params(gener[\"output\"], trainable=True)\n",
    "G_updates = lasagne.updates.adam(combo_loss, G_params, 4e-4)\n",
    "G_train = theano.function([inputMap, inputSat], combo_loss, updates=G_updates)"
   ]
  },
  {
   "cell_type": "code",
   "execution_count": 6,
   "metadata": {
    "collapsed": true
   },
   "outputs": [],
   "source": [
    "sats = sorted(filter(lambda x: x.split(\".\")[1]==\"sat\", os.listdir(\"data/\")))\n",
    "maps = sorted(filter(lambda x: x.split(\".\")[1]==\"map\", os.listdir(\"data/\")))"
   ]
  },
  {
   "cell_type": "code",
   "execution_count": 7,
   "metadata": {},
   "outputs": [],
   "source": [
    "sats = pics2array(\"data/\", sats)/255\n",
    "maps = pics2array(\"data/\", maps)/255"
   ]
  },
  {
   "cell_type": "code",
   "execution_count": null,
   "metadata": {},
   "outputs": [
    {
     "name": "stdout",
     "output_type": "stream",
     "text": [
      "0\n"
     ]
    }
   ],
   "source": [
    "n_epochs = 20\n",
    "batch_size = 5\n",
    "\n",
    "for epoch in range(n_epochs):\n",
    "    print epoch\n",
    "    for i in range(0, len(maps) - batch_size, batch_size):\n",
    "        D_train(maps[i : i + batch_size], sats[i : i + batch_size])\n",
    "        \n",
    "        for k in range(3):\n",
    "            G_train(maps[i : i + batch_size], sats[i : i + batch_size])"
   ]
  }
 ],
 "metadata": {
  "kernelspec": {
   "display_name": "Python [default]",
   "language": "python",
   "name": "python2"
  },
  "language_info": {
   "codemirror_mode": {
    "name": "ipython",
    "version": 2
   },
   "file_extension": ".py",
   "mimetype": "text/x-python",
   "name": "python",
   "nbconvert_exporter": "python",
   "pygments_lexer": "ipython2",
   "version": "2.7.13"
  }
 },
 "nbformat": 4,
 "nbformat_minor": 2
}
